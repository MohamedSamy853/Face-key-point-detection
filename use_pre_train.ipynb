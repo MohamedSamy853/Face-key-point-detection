{
 "cells": [
  {
   "cell_type": "code",
   "execution_count": 1,
   "metadata": {},
   "outputs": [],
   "source": [
    "import cv2\n",
    "import dlib"
   ]
  },
  {
   "cell_type": "code",
   "execution_count": 2,
   "metadata": {},
   "outputs": [],
   "source": [
    "detector = dlib.get_frontal_face_detector()\n",
    "predictor = dlib.shape_predictor(\"shape_predictor_68_face_landmarks.dat\")"
   ]
  },
  {
   "cell_type": "code",
   "execution_count": 3,
   "metadata": {},
   "outputs": [
    {
     "name": "stdout",
     "output_type": "stream",
     "text": [
      "[(293, 293) (473, 473)]\n",
      "[(293, 293) (473, 473)]\n",
      "[(254, 214) (433, 393)]\n",
      "[(254, 214) (433, 393)]\n",
      "[(254, 214) (433, 393)]\n",
      "[(254, 214) (433, 393)]\n",
      "[(254, 214) (433, 393)]\n",
      "[(254, 214) (433, 393)]\n",
      "[(254, 214) (433, 393)]\n",
      "[(254, 214) (433, 393)]\n",
      "[(254, 214) (433, 393)]\n",
      "[(273, 234) (453, 413)]\n",
      "[(273, 234) (453, 413)]\n",
      "[(273, 234) (453, 413)]\n",
      "[(273, 234) (453, 413)]\n",
      "[(273, 234) (453, 413)]\n",
      "[(273, 214) (453, 393)]\n",
      "[(273, 214) (453, 393)]\n",
      "[(273, 214) (453, 393)]\n",
      "[(273, 214) (453, 393)]\n",
      "[(273, 214) (453, 393)]\n",
      "[(273, 214) (453, 393)]\n",
      "[(273, 214) (453, 393)]\n",
      "[(273, 214) (453, 393)]\n",
      "[(273, 214) (453, 393)]\n",
      "[(273, 214) (453, 393)]\n",
      "[(273, 214) (453, 393)]\n",
      "[(273, 214) (453, 393)]\n",
      "[(273, 214) (453, 393)]\n",
      "[(273, 214) (453, 393)]\n",
      "[(273, 214) (453, 393)]\n",
      "[(273, 214) (453, 393)]\n",
      "[(273, 214) (453, 393)]\n",
      "[(273, 214) (453, 393)]\n",
      "[(273, 214) (453, 393)]\n",
      "[(273, 214) (453, 393)]\n",
      "[(273, 214) (453, 393)]\n",
      "[(273, 214) (453, 393)]\n",
      "[(273, 214) (453, 393)]\n",
      "[(273, 214) (453, 393)]\n",
      "[(273, 214) (453, 393)]\n",
      "[(273, 214) (453, 393)]\n",
      "[(273, 214) (453, 393)]\n",
      "[(273, 214) (453, 393)]\n",
      "[(293, 214) (473, 393)]\n",
      "[(293, 214) (473, 393)]\n",
      "[(293, 214) (473, 393)]\n",
      "[(293, 214) (473, 393)]\n",
      "[(293, 214) (473, 393)]\n",
      "[(293, 214) (473, 393)]\n"
     ]
    },
    {
     "ename": "KeyboardInterrupt",
     "evalue": "",
     "output_type": "error",
     "traceback": [
      "\u001b[1;31m---------------------------------------------------------------------------\u001b[0m",
      "\u001b[1;31mKeyboardInterrupt\u001b[0m                         Traceback (most recent call last)",
      "\u001b[1;32m~\\AppData\\Local\\Temp\\ipykernel_11360\\2152191596.py\u001b[0m in \u001b[0;36m<module>\u001b[1;34m\u001b[0m\n\u001b[0;32m      3\u001b[0m     \u001b[0m_\u001b[0m\u001b[1;33m,\u001b[0m \u001b[0mframe\u001b[0m \u001b[1;33m=\u001b[0m \u001b[0mcap\u001b[0m\u001b[1;33m.\u001b[0m\u001b[0mread\u001b[0m\u001b[1;33m(\u001b[0m\u001b[1;33m)\u001b[0m\u001b[1;33m\u001b[0m\u001b[1;33m\u001b[0m\u001b[0m\n\u001b[0;32m      4\u001b[0m     \u001b[0mgray\u001b[0m \u001b[1;33m=\u001b[0m \u001b[0mcv2\u001b[0m\u001b[1;33m.\u001b[0m\u001b[0mcvtColor\u001b[0m\u001b[1;33m(\u001b[0m\u001b[0mframe\u001b[0m \u001b[1;33m,\u001b[0m \u001b[0mcv2\u001b[0m\u001b[1;33m.\u001b[0m\u001b[0mCOLOR_BGR2GRAY\u001b[0m\u001b[1;33m)\u001b[0m\u001b[1;33m\u001b[0m\u001b[1;33m\u001b[0m\u001b[0m\n\u001b[1;32m----> 5\u001b[1;33m     \u001b[0mfaces\u001b[0m \u001b[1;33m=\u001b[0m \u001b[0mdetector\u001b[0m\u001b[1;33m(\u001b[0m\u001b[0mgray\u001b[0m\u001b[1;33m)\u001b[0m\u001b[1;33m\u001b[0m\u001b[1;33m\u001b[0m\u001b[0m\n\u001b[0m\u001b[0;32m      6\u001b[0m     \u001b[1;32mfor\u001b[0m \u001b[0mface\u001b[0m \u001b[1;32min\u001b[0m \u001b[0mfaces\u001b[0m\u001b[1;33m:\u001b[0m\u001b[1;33m\u001b[0m\u001b[1;33m\u001b[0m\u001b[0m\n\u001b[0;32m      7\u001b[0m         \u001b[0mprint\u001b[0m\u001b[1;33m(\u001b[0m\u001b[0mface\u001b[0m\u001b[1;33m)\u001b[0m\u001b[1;33m\u001b[0m\u001b[1;33m\u001b[0m\u001b[0m\n",
      "\u001b[1;31mKeyboardInterrupt\u001b[0m: "
     ]
    }
   ],
   "source": [
    "cap = cv2.VideoCapture(0)\n",
    "while True :\n",
    "    _, frame = cap.read()\n",
    "    gray = cv2.cvtColor(frame , cv2.COLOR_BGR2GRAY)\n",
    "    faces = detector(gray)\n",
    "    for face in faces:\n",
    "        print(face)\n",
    "        x1 = face.left()\n",
    "        y1 = face.top()\n",
    "        x2 = face.right()\n",
    "        y2 = face.bottom()\n",
    "        cv2.rectangle(frame, (x1, y1), (x2, y2), (0, 255, 0),3)\n",
    "        landmarks = predictor(gray, face)\n",
    "        for n in range(0, 68):\n",
    "            x = landmarks.part(n).x\n",
    "            y = landmarks.part(n).y\n",
    "            cv2.circle(frame, (x,y),3,(0,255,0),-1)"
   ]
  },
  {
   "cell_type": "code",
   "execution_count": 4,
   "metadata": {},
   "outputs": [],
   "source": [
    "cap.release()"
   ]
  },
  {
   "cell_type": "code",
   "execution_count": null,
   "metadata": {},
   "outputs": [],
   "source": []
  }
 ],
 "metadata": {
  "kernelspec": {
   "display_name": "base",
   "language": "python",
   "name": "python3"
  },
  "language_info": {
   "codemirror_mode": {
    "name": "ipython",
    "version": 3
   },
   "file_extension": ".py",
   "mimetype": "text/x-python",
   "name": "python",
   "nbconvert_exporter": "python",
   "pygments_lexer": "ipython3",
   "version": "3.9.13"
  },
  "orig_nbformat": 4,
  "vscode": {
   "interpreter": {
    "hash": "57bc2b6ce032b5f0e93daa91901b7ea38a856826ef43aa9e95b6d3999f5310df"
   }
  }
 },
 "nbformat": 4,
 "nbformat_minor": 2
}
